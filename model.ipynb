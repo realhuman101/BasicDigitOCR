{
 "cells": [
  {
   "attachments": {},
   "cell_type": "markdown",
   "metadata": {},
   "source": [
    "# Handwritten Digit Recognition"
   ]
  },
  {
   "attachments": {},
   "cell_type": "markdown",
   "metadata": {},
   "source": [
    "## Imports"
   ]
  },
  {
   "cell_type": "code",
   "execution_count": 44,
   "metadata": {},
   "outputs": [],
   "source": [
    "import tensorflow as tf\n",
    "import numpy as np\n",
    "import pandas as pd\n",
    "\n",
    "from matplotlib import pyplot as plt\n",
    "import seaborn as sns\n",
    "plt.style.use('seaborn')\n",
    "\n",
    "from sklearn.model_selection import train_test_split\n",
    "\n",
    "import os"
   ]
  },
  {
   "attachments": {},
   "cell_type": "markdown",
   "metadata": {},
   "source": [
    "## Loading the MNIST dataset"
   ]
  },
  {
   "cell_type": "code",
   "execution_count": 45,
   "metadata": {},
   "outputs": [],
   "source": [
    "(x_train, y_train), (x_test, y_test) = tf.keras.datasets.mnist.load_data()"
   ]
  },
  {
   "cell_type": "code",
   "execution_count": 46,
   "metadata": {},
   "outputs": [
    {
     "name": "stdout",
     "output_type": "stream",
     "text": [
      "Shape of an image: (28, 28)\n",
      "Max pixel value: 255\n",
      "Min pixel value: 0\n",
      "Classes: [0 1 2 3 4 5 6 7 8 9]\n"
     ]
    }
   ],
   "source": [
    "# Verifying dataset values\n",
    "print(f'Shape of an image: {x_train[0].shape}')\n",
    "print(f'Max pixel value: {x_train.max()}')\n",
    "print(f'Min pixel value: {x_train.min()}')\n",
    "print(f'Classes: {np.unique(y_train)}')"
   ]
  },
  {
   "cell_type": "code",
   "execution_count": 47,
   "metadata": {},
   "outputs": [
    {
     "name": "stdout",
     "output_type": "stream",
     "text": [
      "5\n",
      "[0. 0. 0. 0. 0. 1. 0. 0. 0. 0.]\n",
      "Max pixel value: 1.0\n",
      "Min pixel value: 0.0\n",
      "Train size: 60000, Test size: 10000\n",
      "Train data shape: (60000, 28, 28), Test data shape: (10000, 28, 28)\n",
      "Train label shape: (60000, 10), Test label shape: (10000, 10)\n"
     ]
    }
   ],
   "source": [
    "x_train = x_train/255\n",
    "x_test = x_test/255 \n",
    "\n",
    "num_classes = 10\n",
    "\n",
    "train_one_hot = tf.keras.utils.to_categorical(y_train, num_classes) #one hot encoding for the training set\n",
    "test_one_hot = tf.keras.utils.to_categorical(y_test, num_classes) #one hot encdoing for the testing set\n",
    "\n",
    "print(y_train[0])\n",
    "print(train_one_hot[0])\n",
    "\n",
    "train_size = x_train.shape[0]\n",
    "test_size = x_test.shape[0]\n",
    "\n",
    "print(f'Max pixel value: {x_train.max()}')\n",
    "print(f'Min pixel value: {x_train.min()}')\n",
    "print(f'Train size: {train_size}, Test size: {test_size}')\n",
    "print(f'Train data shape: {x_train.shape}, Test data shape: {x_test.shape}')\n",
    "print(f'Train label shape: {train_one_hot.shape}, Test label shape: {test_one_hot.shape}')"
   ]
  },
  {
   "attachments": {},
   "cell_type": "markdown",
   "metadata": {},
   "source": [
    "## Model Training"
   ]
  },
  {
   "cell_type": "code",
   "execution_count": 48,
   "metadata": {},
   "outputs": [
    {
     "name": "stdout",
     "output_type": "stream",
     "text": [
      "Train data shape: (60000, 28, 28, 1), Test data shape: (10000, 28, 28, 1)\n"
     ]
    }
   ],
   "source": [
    "input_shape = [28, 28, 1]\n",
    "\n",
    "# Reshaping the data\n",
    "x_train = x_train.reshape([-1]+input_shape)\n",
    "x_test = x_test.reshape([-1]+input_shape)\n",
    "\n",
    "print(f'Train data shape: {x_train.shape}, Test data shape: {x_test.shape}')"
   ]
  },
  {
   "cell_type": "code",
   "execution_count": 49,
   "metadata": {},
   "outputs": [
    {
     "name": "stdout",
     "output_type": "stream",
     "text": [
      "Model: \"cnn\"\n",
      "_________________________________________________________________\n",
      " Layer (type)                Output Shape              Param #   \n",
      "=================================================================\n",
      " input_1 (InputLayer)        [(None, 28, 28, 1)]       0         \n",
      "                                                                 \n",
      " conv2d (Conv2D)             (None, 28, 28, 2)         20        \n",
      "                                                                 \n",
      " average_pooling2d (AverageP  (None, 27, 27, 2)        0         \n",
      " ooling2D)                                                       \n",
      "                                                                 \n",
      " flatten (Flatten)           (None, 1458)              0         \n",
      "                                                                 \n",
      " dense (Dense)               (None, 100)               145900    \n",
      "                                                                 \n",
      " dense_1 (Dense)             (None, 10)                1010      \n",
      "                                                                 \n",
      "=================================================================\n",
      "Total params: 146,930\n",
      "Trainable params: 146,930\n",
      "Non-trainable params: 0\n",
      "_________________________________________________________________\n"
     ]
    }
   ],
   "source": [
    "tf.keras.backend.clear_session()\n",
    "\n",
    "\n",
    "inputs = tf.keras.Input(shape=input_shape)\n",
    "x = tf.keras.layers.Conv2D(2, (3,3), strides=(1,1), padding='same', activation='relu',)(inputs)\n",
    "x = tf.keras.layers.AveragePooling2D(strides=(1,1))(x)\n",
    "x = tf.keras.layers.Flatten()(x)\n",
    "x = tf.keras.layers.Dense(100, activation='relu')(x)\n",
    " \n",
    "outputs = tf.keras.layers.Dense(num_classes, activation='softmax')(x)\n",
    "\n",
    "\n",
    "model = tf.keras.Model(inputs=inputs, outputs=outputs, name='cnn')\n",
    "\n",
    "optimizer = tf.keras.optimizers.Adam(\n",
    "\tlearning_rate=0.001,\n",
    "\tbeta_1=0.9,\n",
    "\tbeta_2=0.999,\n",
    "\tepsilon=1e-07\n",
    ")\n",
    "\n",
    "model.compile(\n",
    "\tloss='categorical_crossentropy',\n",
    "\toptimizer=optimizer,\n",
    "\tmetrics=['accuracy']\n",
    ")\n",
    "\n",
    "model.summary()"
   ]
  },
  {
   "cell_type": "code",
   "execution_count": 50,
   "metadata": {},
   "outputs": [
    {
     "name": "stdout",
     "output_type": "stream",
     "text": [
      "You must install pydot (`pip install pydot`) and install graphviz (see instructions at https://graphviz.gitlab.io/download/) for plot_model to work.\n"
     ]
    }
   ],
   "source": [
    "tf.keras.utils.plot_model(model, \"cnn_model.png\", show_shapes=True)"
   ]
  },
  {
   "cell_type": "code",
   "execution_count": 51,
   "metadata": {},
   "outputs": [
    {
     "name": "stdout",
     "output_type": "stream",
     "text": [
      "Epoch 1/100\n",
      "55/55 [==============================] - 2s 21ms/step - loss: 0.9520 - accuracy: 0.7561 - val_loss: 0.3726 - val_accuracy: 0.8893\n",
      "Epoch 2/100\n",
      "55/55 [==============================] - 1s 17ms/step - loss: 0.3566 - accuracy: 0.8951 - val_loss: 0.2624 - val_accuracy: 0.9267\n",
      "Epoch 3/100\n",
      "55/55 [==============================] - 1s 16ms/step - loss: 0.2737 - accuracy: 0.9196 - val_loss: 0.2354 - val_accuracy: 0.9327\n",
      "Epoch 4/100\n",
      "55/55 [==============================] - 1s 16ms/step - loss: 0.2353 - accuracy: 0.9299 - val_loss: 0.2009 - val_accuracy: 0.9423\n",
      "Epoch 5/100\n",
      "55/55 [==============================] - 1s 17ms/step - loss: 0.2029 - accuracy: 0.9380 - val_loss: 0.1895 - val_accuracy: 0.9360\n",
      "Epoch 6/100\n",
      "55/55 [==============================] - 1s 18ms/step - loss: 0.1743 - accuracy: 0.9460 - val_loss: 0.1946 - val_accuracy: 0.9390\n",
      "Epoch 7/100\n",
      "55/55 [==============================] - 1s 18ms/step - loss: 0.1559 - accuracy: 0.9511 - val_loss: 0.1907 - val_accuracy: 0.9433\n",
      "Epoch 8/100\n",
      "55/55 [==============================] - 1s 19ms/step - loss: 0.1354 - accuracy: 0.9594 - val_loss: 0.1687 - val_accuracy: 0.9457\n",
      "Epoch 9/100\n",
      "55/55 [==============================] - 1s 18ms/step - loss: 0.1181 - accuracy: 0.9637 - val_loss: 0.1612 - val_accuracy: 0.9510\n",
      "Epoch 10/100\n",
      "55/55 [==============================] - 1s 18ms/step - loss: 0.1069 - accuracy: 0.9676 - val_loss: 0.1615 - val_accuracy: 0.9480\n",
      "Epoch 11/100\n",
      "55/55 [==============================] - 1s 18ms/step - loss: 0.0952 - accuracy: 0.9710 - val_loss: 0.1466 - val_accuracy: 0.9537\n",
      "Epoch 12/100\n",
      "55/55 [==============================] - 1s 17ms/step - loss: 0.0849 - accuracy: 0.9747 - val_loss: 0.1471 - val_accuracy: 0.9530\n",
      "Epoch 13/100\n",
      "55/55 [==============================] - 1s 17ms/step - loss: 0.0738 - accuracy: 0.9796 - val_loss: 0.1368 - val_accuracy: 0.9560\n",
      "Epoch 14/100\n",
      "55/55 [==============================] - 1s 18ms/step - loss: 0.0658 - accuracy: 0.9811 - val_loss: 0.1452 - val_accuracy: 0.9553\n",
      "Epoch 15/100\n",
      "55/55 [==============================] - 1s 18ms/step - loss: 0.0594 - accuracy: 0.9831 - val_loss: 0.1422 - val_accuracy: 0.9567\n",
      "Epoch 16/100\n",
      "55/55 [==============================] - 1s 17ms/step - loss: 0.0504 - accuracy: 0.9873 - val_loss: 0.1281 - val_accuracy: 0.9610\n",
      "Epoch 17/100\n",
      "55/55 [==============================] - 1s 16ms/step - loss: 0.0448 - accuracy: 0.9889 - val_loss: 0.1345 - val_accuracy: 0.9590\n",
      "Epoch 18/100\n",
      "55/55 [==============================] - 1s 17ms/step - loss: 0.0433 - accuracy: 0.9890 - val_loss: 0.1317 - val_accuracy: 0.9597\n",
      "Epoch 19/100\n",
      "55/55 [==============================] - 1s 19ms/step - loss: 0.0358 - accuracy: 0.9917 - val_loss: 0.1237 - val_accuracy: 0.9653\n",
      "Epoch 20/100\n",
      "55/55 [==============================] - 1s 17ms/step - loss: 0.0321 - accuracy: 0.9920 - val_loss: 0.1320 - val_accuracy: 0.9607\n",
      "Epoch 21/100\n",
      "55/55 [==============================] - 1s 17ms/step - loss: 0.0264 - accuracy: 0.9946 - val_loss: 0.1317 - val_accuracy: 0.9613\n",
      "Epoch 22/100\n",
      "55/55 [==============================] - 1s 18ms/step - loss: 0.0228 - accuracy: 0.9959 - val_loss: 0.1301 - val_accuracy: 0.9623\n",
      "Epoch 23/100\n",
      "55/55 [==============================] - 1s 18ms/step - loss: 0.0223 - accuracy: 0.9957 - val_loss: 0.1365 - val_accuracy: 0.9620\n",
      "Epoch 24/100\n",
      "55/55 [==============================] - 1s 17ms/step - loss: 0.0176 - accuracy: 0.9973 - val_loss: 0.1250 - val_accuracy: 0.9640\n",
      "Epoch 25/100\n",
      "55/55 [==============================] - 1s 19ms/step - loss: 0.0171 - accuracy: 0.9977 - val_loss: 0.1353 - val_accuracy: 0.9623\n",
      "Epoch 26/100\n",
      "53/55 [===========================>..] - ETA: 0s - loss: 0.0140 - accuracy: 0.9988Restoring model weights from the end of the best epoch: 19.\n",
      "55/55 [==============================] - 1s 17ms/step - loss: 0.0139 - accuracy: 0.9989 - val_loss: 0.1365 - val_accuracy: 0.9610\n",
      "Epoch 26: early stopping\n"
     ]
    }
   ],
   "source": [
    "batch_size = 128\n",
    "epochs = 100\n",
    "\n",
    "# Early Stopping callback function\n",
    "earlystopping = tf.keras.callbacks.EarlyStopping(\n",
    "\tmonitor='val_accuracy',\n",
    "\tmin_delta=0,\n",
    "\tpatience=6.5,\n",
    "\tverbose=1,\n",
    "\tmode='max',\n",
    "\trestore_best_weights=True\n",
    ")\n",
    "\n",
    "\n",
    "\n",
    "# Starting the training\n",
    "history = model.fit(x_test, test_one_hot, epochs=epochs, batch_size=batch_size, validation_split=.3, callbacks=[earlystopping])"
   ]
  },
  {
   "cell_type": "code",
   "execution_count": 52,
   "metadata": {},
   "outputs": [
    {
     "data": {
      "text/plain": [
       "{'loss': [0.9520154595375061,\n",
       "  0.3566489815711975,\n",
       "  0.27373236417770386,\n",
       "  0.23534612357616425,\n",
       "  0.2028816044330597,\n",
       "  0.17430968582630157,\n",
       "  0.15586955845355988,\n",
       "  0.13535302877426147,\n",
       "  0.1180863156914711,\n",
       "  0.106942318379879,\n",
       "  0.09524675458669662,\n",
       "  0.08491674810647964,\n",
       "  0.07378814369440079,\n",
       "  0.06581425666809082,\n",
       "  0.059429727494716644,\n",
       "  0.05041754990816116,\n",
       "  0.04481454938650131,\n",
       "  0.04326663166284561,\n",
       "  0.035845231264829636,\n",
       "  0.032132044434547424,\n",
       "  0.02642640843987465,\n",
       "  0.022804178297519684,\n",
       "  0.022253679111599922,\n",
       "  0.017605464905500412,\n",
       "  0.017143631353974342,\n",
       "  0.01390867866575718],\n",
       " 'accuracy': [0.7561428546905518,\n",
       "  0.8951428532600403,\n",
       "  0.9195713996887207,\n",
       "  0.9298571348190308,\n",
       "  0.9380000233650208,\n",
       "  0.9459999799728394,\n",
       "  0.9511428475379944,\n",
       "  0.9594285488128662,\n",
       "  0.9637143015861511,\n",
       "  0.9675714373588562,\n",
       "  0.9710000157356262,\n",
       "  0.9747142791748047,\n",
       "  0.9795714020729065,\n",
       "  0.9811428785324097,\n",
       "  0.9831428527832031,\n",
       "  0.9872857332229614,\n",
       "  0.9888571500778198,\n",
       "  0.9890000224113464,\n",
       "  0.9917142987251282,\n",
       "  0.9919999837875366,\n",
       "  0.9945714473724365,\n",
       "  0.9958571195602417,\n",
       "  0.9957143068313599,\n",
       "  0.9972857236862183,\n",
       "  0.9977142810821533,\n",
       "  0.9988571405410767],\n",
       " 'val_loss': [0.3725687563419342,\n",
       "  0.2623763382434845,\n",
       "  0.2353985458612442,\n",
       "  0.20094071328639984,\n",
       "  0.18948452174663544,\n",
       "  0.1946219503879547,\n",
       "  0.19068381190299988,\n",
       "  0.16866691410541534,\n",
       "  0.1611749529838562,\n",
       "  0.16151238977909088,\n",
       "  0.14655132591724396,\n",
       "  0.14712277054786682,\n",
       "  0.1367664486169815,\n",
       "  0.14518964290618896,\n",
       "  0.14222019910812378,\n",
       "  0.1281297504901886,\n",
       "  0.13450871407985687,\n",
       "  0.1317072957754135,\n",
       "  0.12368258833885193,\n",
       "  0.1320110410451889,\n",
       "  0.13174937665462494,\n",
       "  0.13011199235916138,\n",
       "  0.13647902011871338,\n",
       "  0.1249740868806839,\n",
       "  0.1353422850370407,\n",
       "  0.13645616173744202],\n",
       " 'val_accuracy': [0.8893333077430725,\n",
       "  0.9266666769981384,\n",
       "  0.9326666593551636,\n",
       "  0.9423333406448364,\n",
       "  0.9359999895095825,\n",
       "  0.9390000104904175,\n",
       "  0.9433333277702332,\n",
       "  0.9456666707992554,\n",
       "  0.9509999752044678,\n",
       "  0.9480000138282776,\n",
       "  0.9536666870117188,\n",
       "  0.953000009059906,\n",
       "  0.9559999704360962,\n",
       "  0.9553333520889282,\n",
       "  0.9566666483879089,\n",
       "  0.9610000252723694,\n",
       "  0.9589999914169312,\n",
       "  0.9596666693687439,\n",
       "  0.9653333425521851,\n",
       "  0.9606666564941406,\n",
       "  0.9613333344459534,\n",
       "  0.9623333215713501,\n",
       "  0.9620000123977661,\n",
       "  0.9639999866485596,\n",
       "  0.9623333215713501,\n",
       "  0.9610000252723694]}"
      ]
     },
     "execution_count": 52,
     "metadata": {},
     "output_type": "execute_result"
    }
   ],
   "source": [
    "history.history"
   ]
  },
  {
   "attachments": {},
   "cell_type": "markdown",
   "metadata": {},
   "source": [
    "## Plotting the Learning Curve"
   ]
  },
  {
   "cell_type": "code",
   "execution_count": 53,
   "metadata": {},
   "outputs": [
    {
     "data": {
      "text/plain": [
       "<AxesSubplot:>"
      ]
     },
     "execution_count": 53,
     "metadata": {},
     "output_type": "execute_result"
    },
    {
     "data": {
      "image/png": "[encoded data removed]",
      "text/plain": [
       "<Figure size 576x396 with 1 Axes>"
      ]
     },
     "metadata": {},
     "output_type": "display_data"
    }
   ],
   "source": [
    "res = pd.DataFrame(history.history)\n",
    "res[['loss','val_loss']].plot()"
   ]
  },
  {
   "cell_type": "code",
   "execution_count": 54,
   "metadata": {},
   "outputs": [
    {
     "data": {
      "text/plain": [
       "<AxesSubplot:>"
      ]
     },
     "execution_count": 54,
     "metadata": {},
     "output_type": "execute_result"
    },
    {
     "data": {
      "image/png": "[encoded data removed]",
      "text/plain": [
       "<Figure size 576x396 with 1 Axes>"
      ]
     },
     "metadata": {},
     "output_type": "display_data"
    }
   ],
   "source": [
    "res[['accuracy','val_accuracy']].plot()"
   ]
  },
  {
   "attachments": {},
   "cell_type": "markdown",
   "metadata": {},
   "source": [
    "## Model Evaluation"
   ]
  },
  {
   "cell_type": "code",
   "execution_count": 55,
   "metadata": {},
   "outputs": [
    {
     "name": "stdout",
     "output_type": "stream",
     "text": [
      "313/313 [==============================] - 1s 3ms/step - loss: 0.0574 - accuracy: 0.9853\n",
      "loss: 0.0574\n",
      "accuracy: 0.9853\n"
     ]
    }
   ],
   "source": [
    "scores = model.evaluate(x_test, test_one_hot, verbose=1)\n",
    "names = model.metrics_names\n",
    "\n",
    "for i in range(len(scores)):\n",
    "  print(f'{names[i]}: {scores[i]:.4f}')"
   ]
  },
  {
   "cell_type": "code",
   "execution_count": 56,
   "metadata": {},
   "outputs": [],
   "source": [
    "model.save(\"raw/basicdigitOCR.h5\")"
   ]
  },
  {
   "cell_type": "code",
   "execution_count": 57,
   "metadata": {},
   "outputs": [
    {
     "name": "stdout",
     "output_type": "stream",
     "text": [
      "313/313 [==============================] - 1s 3ms/step - loss: 0.0574 - accuracy: 0.9853\n"
     ]
    },
    {
     "data": {
      "text/plain": [
       "[0.05739057436585426, 0.9853000044822693]"
      ]
     },
     "execution_count": 57,
     "metadata": {},
     "output_type": "execute_result"
    }
   ],
   "source": [
    "loaded_model = tf.keras.models.load_model(\"raw/basicdigitOCR.h5\")\n",
    "loaded_model.evaluate(x_test, test_one_hot, verbose=1)"
   ]
  },
  {
   "cell_type": "code",
   "execution_count": 58,
   "metadata": {},
   "outputs": [
    {
     "name": "stdout",
     "output_type": "stream",
     "text": [
      "1/1 [==============================] - 0s 83ms/step\n"
     ]
    },
    {
     "data": {
      "text/plain": [
       "array([[1.0403159e-07, 1.6945786e-10, 4.7758222e-06, 1.0681335e-03,\n",
       "        2.6134239e-11, 1.5226439e-08, 9.5546252e-14, 9.9892682e-01,\n",
       "        2.4904752e-08, 4.3599627e-08]], dtype=float32)"
      ]
     },
     "execution_count": 58,
     "metadata": {},
     "output_type": "execute_result"
    }
   ],
   "source": [
    "model.predict(x_test[0].reshape(-1,28,28))"
   ]
  },
  {
   "cell_type": "code",
   "execution_count": 59,
   "metadata": {},
   "outputs": [
    {
     "name": "stdout",
     "output_type": "stream",
     "text": [
      "313/313 [==============================] - 1s 4ms/step\n",
      "sum: [0.9999999  1.         0.9999999  ... 0.99999994 1.0000001  1.        ]\n",
      "predict index: [7 2 1 ... 4 5 6]\n"
     ]
    }
   ],
   "source": [
    "prediction = model.predict(x_test)\n",
    "\n",
    "\n",
    "print(\n",
    "    f'sum: {np.sum(prediction, axis=1)}\\n'\n",
    "    f'predict index: {np.argmax(prediction, axis=1)}'\n",
    ")"
   ]
  }
 ],
 "metadata": {
  "kernelspec": {
   "display_name": "Python 3",
   "language": "python",
   "name": "python3"
  },
  "language_info": {
   "codemirror_mode": {
    "name": "ipython",
    "version": 3
   },
   "file_extension": ".py",
   "mimetype": "text/x-python",
   "name": "python",
   "nbconvert_exporter": "python",
   "pygments_lexer": "ipython3",
   "version": "3.10.3"
  },
  "orig_nbformat": 4,
  "vscode": {
   "interpreter": {
    "hash": "aee8b7b246df8f9039afb4144a1f6fd8d2ca17a180786b69acc140d282b71a49"
   }
  }
 },
 "nbformat": 4,
 "nbformat_minor": 2
}
